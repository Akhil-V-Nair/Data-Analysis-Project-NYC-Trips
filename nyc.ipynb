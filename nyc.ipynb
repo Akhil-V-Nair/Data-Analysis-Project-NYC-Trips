{
 "cells": [
  {
   "cell_type": "code",
   "execution_count": 1,
   "metadata": {},
   "outputs": [],
   "source": [
    "#import libraries\n",
    "import os\n",
    "import glob\n",
    "import pandas as pd"
   ]
  },
  {
   "cell_type": "code",
   "execution_count": 2,
   "metadata": {},
   "outputs": [
    {
     "name": "stdout",
     "output_type": "stream",
     "text": [
      "c:\\Users\\AkhilVNairNair\\Desktop\\Data_Science_Project\n"
     ]
    }
   ],
   "source": [
    "path = os.getcwd()\n",
    "print(path)\n"
   ]
  },
  {
   "cell_type": "code",
   "execution_count": 3,
   "metadata": {},
   "outputs": [
    {
     "name": "stdout",
     "output_type": "stream",
     "text": [
      "['c:\\\\Users\\\\AkhilVNairNair\\\\Desktop\\\\Data_Science_Project/taxi_trips\\\\2017_taxi_trips.csv', 'c:\\\\Users\\\\AkhilVNairNair\\\\Desktop\\\\Data_Science_Project/taxi_trips\\\\2018_taxi_trips.csv', 'c:\\\\Users\\\\AkhilVNairNair\\\\Desktop\\\\Data_Science_Project/taxi_trips\\\\2019_taxi_trips.csv', 'c:\\\\Users\\\\AkhilVNairNair\\\\Desktop\\\\Data_Science_Project/taxi_trips\\\\2020_taxi_trips.csv']\n"
     ]
    }
   ],
   "source": [
    "filepath = path + \"/taxi_trips/\"\n",
    "csv_files = glob.glob(os.path.join(filepath, \"*.csv\"))\n",
    "print(csv_files)"
   ]
  },
  {
   "cell_type": "code",
   "execution_count": 4,
   "metadata": {},
   "outputs": [
    {
     "name": "stdout",
     "output_type": "stream",
     "text": [
      "   VendorID     lpep_pickup_datetime    lpep_dropoff_datetime  \\\n",
      "0       1.0  2017-01-01 09:00:01.000  2017-01-01 09:03:56.000   \n",
      "1       1.0  2017-01-01 18:57:55.000  2017-01-01 19:01:16.000   \n",
      "2       2.0  2017-01-02 06:55:47.000  2017-01-02 06:58:54.000   \n",
      "3       2.0  2017-01-02 14:34:17.000  2017-01-02 14:39:29.000   \n",
      "4       1.0  2017-01-03 06:12:30.000  2017-01-03 06:15:56.000   \n",
      "\n",
      "  store_and_fwd_flag  RatecodeID  PULocationID  DOLocationID  passenger_count  \\\n",
      "0                  N         1.0            74            41              1.0   \n",
      "1                  N         1.0            42            41              1.0   \n",
      "2                  N         1.0            42            41              1.0   \n",
      "3                  N         1.0            74            41              1.0   \n",
      "4                  N         1.0            42            41              1.0   \n",
      "\n",
      "   trip_distance  fare_amount  extra  mta_tax  tip_amount  tolls_amount  \\\n",
      "0            0.7          5.0    0.0      0.5         0.0           0.0   \n",
      "1            0.7          5.0    0.0      0.5         0.0           0.0   \n",
      "2            0.7          5.0    0.0      0.5         0.0           0.0   \n",
      "3            0.7          5.0    0.0      0.5         0.0           0.0   \n",
      "4            0.7          5.0    0.0      0.5         0.0           0.0   \n",
      "\n",
      "   improvement_surcharge  total_amount  payment_type  trip_type  \\\n",
      "0                    0.3           5.8           2.0        1.0   \n",
      "1                    0.3           5.8           2.0        1.0   \n",
      "2                    0.3           5.8           2.0        1.0   \n",
      "3                    0.3           5.8           2.0        1.0   \n",
      "4                    0.3           5.8           2.0        1.0   \n",
      "\n",
      "   congestion_surcharge  \n",
      "0                   NaN  \n",
      "1                   NaN  \n",
      "2                   NaN  \n",
      "3                   NaN  \n",
      "4                   NaN  \n"
     ]
    },
    {
     "data": {
      "text/plain": [
       "(28326071, 19)"
      ]
     },
     "execution_count": 4,
     "metadata": {},
     "output_type": "execute_result"
    }
   ],
   "source": [
    "taxi_data = [pd.read_csv(file, low_memory=False) for file in csv_files]\n",
    "taxi_data = pd.concat(taxi_data)\n",
    "print(taxi_data.head())\n",
    "taxi_data.shape"
   ]
  },
  {
   "cell_type": "code",
   "execution_count": 5,
   "metadata": {},
   "outputs": [
    {
     "data": {
      "text/plain": [
       "VendorID                 float64\n",
       "lpep_pickup_datetime      object\n",
       "lpep_dropoff_datetime     object\n",
       "store_and_fwd_flag        object\n",
       "RatecodeID               float64\n",
       "PULocationID               int64\n",
       "DOLocationID               int64\n",
       "passenger_count          float64\n",
       "trip_distance            float64\n",
       "fare_amount              float64\n",
       "extra                    float64\n",
       "mta_tax                  float64\n",
       "tip_amount               float64\n",
       "tolls_amount             float64\n",
       "improvement_surcharge    float64\n",
       "total_amount             float64\n",
       "payment_type             float64\n",
       "trip_type                float64\n",
       "congestion_surcharge     float64\n",
       "dtype: object"
      ]
     },
     "execution_count": 5,
     "metadata": {},
     "output_type": "execute_result"
    }
   ],
   "source": [
    "taxi_data.dtypes"
   ]
  },
  {
   "cell_type": "code",
   "execution_count": 6,
   "metadata": {},
   "outputs": [
    {
     "data": {
      "text/plain": [
       "VendorID                   942199\n",
       "lpep_pickup_datetime            0\n",
       "lpep_dropoff_datetime           0\n",
       "store_and_fwd_flag         942199\n",
       "RatecodeID                 942199\n",
       "PULocationID                    0\n",
       "DOLocationID                    0\n",
       "passenger_count            942199\n",
       "trip_distance                   0\n",
       "fare_amount                     0\n",
       "extra                           0\n",
       "mta_tax                         0\n",
       "tip_amount                      0\n",
       "tolls_amount                    0\n",
       "improvement_surcharge           2\n",
       "total_amount                    0\n",
       "payment_type               942199\n",
       "trip_type                  942653\n",
       "congestion_surcharge     22036551\n",
       "dtype: int64"
      ]
     },
     "execution_count": 6,
     "metadata": {},
     "output_type": "execute_result"
    }
   ],
   "source": [
    "#missing values in each column\n",
    "taxi_data.isnull().sum()"
   ]
  },
  {
   "cell_type": "code",
   "execution_count": 9,
   "metadata": {},
   "outputs": [
    {
     "data": {
      "text/plain": [
       "array(['N'], dtype=object)"
      ]
     },
     "execution_count": 9,
     "metadata": {},
     "output_type": "execute_result"
    }
   ],
   "source": [
    "#values in \"store and fwd column\"\n",
    "taxi_data[\"store_and_fwd_flag\"].unique()"
   ]
  },
  {
   "cell_type": "code",
   "execution_count": 8,
   "metadata": {},
   "outputs": [
    {
     "data": {
      "text/html": [
       "<div>\n",
       "<style scoped>\n",
       "    .dataframe tbody tr th:only-of-type {\n",
       "        vertical-align: middle;\n",
       "    }\n",
       "\n",
       "    .dataframe tbody tr th {\n",
       "        vertical-align: top;\n",
       "    }\n",
       "\n",
       "    .dataframe thead th {\n",
       "        text-align: right;\n",
       "    }\n",
       "</style>\n",
       "<table border=\"1\" class=\"dataframe\">\n",
       "  <thead>\n",
       "    <tr style=\"text-align: right;\">\n",
       "      <th></th>\n",
       "      <th>VendorID</th>\n",
       "      <th>lpep_pickup_datetime</th>\n",
       "      <th>lpep_dropoff_datetime</th>\n",
       "      <th>store_and_fwd_flag</th>\n",
       "      <th>RatecodeID</th>\n",
       "      <th>PULocationID</th>\n",
       "      <th>DOLocationID</th>\n",
       "      <th>passenger_count</th>\n",
       "      <th>trip_distance</th>\n",
       "      <th>fare_amount</th>\n",
       "      <th>extra</th>\n",
       "      <th>mta_tax</th>\n",
       "      <th>tip_amount</th>\n",
       "      <th>tolls_amount</th>\n",
       "      <th>improvement_surcharge</th>\n",
       "      <th>total_amount</th>\n",
       "      <th>payment_type</th>\n",
       "      <th>trip_type</th>\n",
       "      <th>congestion_surcharge</th>\n",
       "    </tr>\n",
       "  </thead>\n",
       "  <tbody>\n",
       "    <tr>\n",
       "      <th>0</th>\n",
       "      <td>1.0</td>\n",
       "      <td>2017-01-01 09:00:01.000</td>\n",
       "      <td>2017-01-01 09:03:56.000</td>\n",
       "      <td>N</td>\n",
       "      <td>1.0</td>\n",
       "      <td>74</td>\n",
       "      <td>41</td>\n",
       "      <td>1.0</td>\n",
       "      <td>0.7</td>\n",
       "      <td>5.0</td>\n",
       "      <td>0.0</td>\n",
       "      <td>0.5</td>\n",
       "      <td>0.0</td>\n",
       "      <td>0.0</td>\n",
       "      <td>0.3</td>\n",
       "      <td>5.8</td>\n",
       "      <td>2.0</td>\n",
       "      <td>1.0</td>\n",
       "      <td>NaN</td>\n",
       "    </tr>\n",
       "    <tr>\n",
       "      <th>1</th>\n",
       "      <td>1.0</td>\n",
       "      <td>2017-01-01 18:57:55.000</td>\n",
       "      <td>2017-01-01 19:01:16.000</td>\n",
       "      <td>N</td>\n",
       "      <td>1.0</td>\n",
       "      <td>42</td>\n",
       "      <td>41</td>\n",
       "      <td>1.0</td>\n",
       "      <td>0.7</td>\n",
       "      <td>5.0</td>\n",
       "      <td>0.0</td>\n",
       "      <td>0.5</td>\n",
       "      <td>0.0</td>\n",
       "      <td>0.0</td>\n",
       "      <td>0.3</td>\n",
       "      <td>5.8</td>\n",
       "      <td>2.0</td>\n",
       "      <td>1.0</td>\n",
       "      <td>NaN</td>\n",
       "    </tr>\n",
       "    <tr>\n",
       "      <th>2</th>\n",
       "      <td>2.0</td>\n",
       "      <td>2017-01-02 06:55:47.000</td>\n",
       "      <td>2017-01-02 06:58:54.000</td>\n",
       "      <td>N</td>\n",
       "      <td>1.0</td>\n",
       "      <td>42</td>\n",
       "      <td>41</td>\n",
       "      <td>1.0</td>\n",
       "      <td>0.7</td>\n",
       "      <td>5.0</td>\n",
       "      <td>0.0</td>\n",
       "      <td>0.5</td>\n",
       "      <td>0.0</td>\n",
       "      <td>0.0</td>\n",
       "      <td>0.3</td>\n",
       "      <td>5.8</td>\n",
       "      <td>2.0</td>\n",
       "      <td>1.0</td>\n",
       "      <td>NaN</td>\n",
       "    </tr>\n",
       "    <tr>\n",
       "      <th>3</th>\n",
       "      <td>2.0</td>\n",
       "      <td>2017-01-02 14:34:17.000</td>\n",
       "      <td>2017-01-02 14:39:29.000</td>\n",
       "      <td>N</td>\n",
       "      <td>1.0</td>\n",
       "      <td>74</td>\n",
       "      <td>41</td>\n",
       "      <td>1.0</td>\n",
       "      <td>0.7</td>\n",
       "      <td>5.0</td>\n",
       "      <td>0.0</td>\n",
       "      <td>0.5</td>\n",
       "      <td>0.0</td>\n",
       "      <td>0.0</td>\n",
       "      <td>0.3</td>\n",
       "      <td>5.8</td>\n",
       "      <td>2.0</td>\n",
       "      <td>1.0</td>\n",
       "      <td>NaN</td>\n",
       "    </tr>\n",
       "    <tr>\n",
       "      <th>4</th>\n",
       "      <td>1.0</td>\n",
       "      <td>2017-01-03 06:12:30.000</td>\n",
       "      <td>2017-01-03 06:15:56.000</td>\n",
       "      <td>N</td>\n",
       "      <td>1.0</td>\n",
       "      <td>42</td>\n",
       "      <td>41</td>\n",
       "      <td>1.0</td>\n",
       "      <td>0.7</td>\n",
       "      <td>5.0</td>\n",
       "      <td>0.0</td>\n",
       "      <td>0.5</td>\n",
       "      <td>0.0</td>\n",
       "      <td>0.0</td>\n",
       "      <td>0.3</td>\n",
       "      <td>5.8</td>\n",
       "      <td>2.0</td>\n",
       "      <td>1.0</td>\n",
       "      <td>NaN</td>\n",
       "    </tr>\n",
       "  </tbody>\n",
       "</table>\n",
       "</div>"
      ],
      "text/plain": [
       "   VendorID     lpep_pickup_datetime    lpep_dropoff_datetime  \\\n",
       "0       1.0  2017-01-01 09:00:01.000  2017-01-01 09:03:56.000   \n",
       "1       1.0  2017-01-01 18:57:55.000  2017-01-01 19:01:16.000   \n",
       "2       2.0  2017-01-02 06:55:47.000  2017-01-02 06:58:54.000   \n",
       "3       2.0  2017-01-02 14:34:17.000  2017-01-02 14:39:29.000   \n",
       "4       1.0  2017-01-03 06:12:30.000  2017-01-03 06:15:56.000   \n",
       "\n",
       "  store_and_fwd_flag  RatecodeID  PULocationID  DOLocationID  passenger_count  \\\n",
       "0                  N         1.0            74            41              1.0   \n",
       "1                  N         1.0            42            41              1.0   \n",
       "2                  N         1.0            42            41              1.0   \n",
       "3                  N         1.0            74            41              1.0   \n",
       "4                  N         1.0            42            41              1.0   \n",
       "\n",
       "   trip_distance  fare_amount  extra  mta_tax  tip_amount  tolls_amount  \\\n",
       "0            0.7          5.0    0.0      0.5         0.0           0.0   \n",
       "1            0.7          5.0    0.0      0.5         0.0           0.0   \n",
       "2            0.7          5.0    0.0      0.5         0.0           0.0   \n",
       "3            0.7          5.0    0.0      0.5         0.0           0.0   \n",
       "4            0.7          5.0    0.0      0.5         0.0           0.0   \n",
       "\n",
       "   improvement_surcharge  total_amount  payment_type  trip_type  \\\n",
       "0                    0.3           5.8           2.0        1.0   \n",
       "1                    0.3           5.8           2.0        1.0   \n",
       "2                    0.3           5.8           2.0        1.0   \n",
       "3                    0.3           5.8           2.0        1.0   \n",
       "4                    0.3           5.8           2.0        1.0   \n",
       "\n",
       "   congestion_surcharge  \n",
       "0                   NaN  \n",
       "1                   NaN  \n",
       "2                   NaN  \n",
       "3                   NaN  \n",
       "4                   NaN  "
      ]
     },
     "execution_count": 8,
     "metadata": {},
     "output_type": "execute_result"
    }
   ],
   "source": [
    "#Keeping trips that were not sent via \"store and forward\"\n",
    "taxi_data = taxi_data[taxi_data[\"store_and_fwd_flag\"]==\"N\"]\n",
    "taxi_data.head()"
   ]
  },
  {
   "cell_type": "code",
   "execution_count": 10,
   "metadata": {},
   "outputs": [
    {
     "data": {
      "text/html": [
       "<div>\n",
       "<style scoped>\n",
       "    .dataframe tbody tr th:only-of-type {\n",
       "        vertical-align: middle;\n",
       "    }\n",
       "\n",
       "    .dataframe tbody tr th {\n",
       "        vertical-align: top;\n",
       "    }\n",
       "\n",
       "    .dataframe thead th {\n",
       "        text-align: right;\n",
       "    }\n",
       "</style>\n",
       "<table border=\"1\" class=\"dataframe\">\n",
       "  <thead>\n",
       "    <tr style=\"text-align: right;\">\n",
       "      <th></th>\n",
       "      <th>VendorID</th>\n",
       "      <th>lpep_pickup_datetime</th>\n",
       "      <th>lpep_dropoff_datetime</th>\n",
       "      <th>store_and_fwd_flag</th>\n",
       "      <th>RatecodeID</th>\n",
       "      <th>PULocationID</th>\n",
       "      <th>DOLocationID</th>\n",
       "      <th>passenger_count</th>\n",
       "      <th>trip_distance</th>\n",
       "      <th>fare_amount</th>\n",
       "      <th>extra</th>\n",
       "      <th>mta_tax</th>\n",
       "      <th>tip_amount</th>\n",
       "      <th>tolls_amount</th>\n",
       "      <th>improvement_surcharge</th>\n",
       "      <th>total_amount</th>\n",
       "      <th>payment_type</th>\n",
       "      <th>trip_type</th>\n",
       "      <th>congestion_surcharge</th>\n",
       "    </tr>\n",
       "  </thead>\n",
       "  <tbody>\n",
       "    <tr>\n",
       "      <th>0</th>\n",
       "      <td>1.0</td>\n",
       "      <td>2017-01-01 09:00:01.000</td>\n",
       "      <td>2017-01-01 09:03:56.000</td>\n",
       "      <td>N</td>\n",
       "      <td>1.0</td>\n",
       "      <td>74</td>\n",
       "      <td>41</td>\n",
       "      <td>1.0</td>\n",
       "      <td>0.7</td>\n",
       "      <td>5.0</td>\n",
       "      <td>0.0</td>\n",
       "      <td>0.5</td>\n",
       "      <td>0.0</td>\n",
       "      <td>0.0</td>\n",
       "      <td>0.3</td>\n",
       "      <td>5.8</td>\n",
       "      <td>2.0</td>\n",
       "      <td>1.0</td>\n",
       "      <td>NaN</td>\n",
       "    </tr>\n",
       "    <tr>\n",
       "      <th>1</th>\n",
       "      <td>1.0</td>\n",
       "      <td>2017-01-01 18:57:55.000</td>\n",
       "      <td>2017-01-01 19:01:16.000</td>\n",
       "      <td>N</td>\n",
       "      <td>1.0</td>\n",
       "      <td>42</td>\n",
       "      <td>41</td>\n",
       "      <td>1.0</td>\n",
       "      <td>0.7</td>\n",
       "      <td>5.0</td>\n",
       "      <td>0.0</td>\n",
       "      <td>0.5</td>\n",
       "      <td>0.0</td>\n",
       "      <td>0.0</td>\n",
       "      <td>0.3</td>\n",
       "      <td>5.8</td>\n",
       "      <td>2.0</td>\n",
       "      <td>1.0</td>\n",
       "      <td>NaN</td>\n",
       "    </tr>\n",
       "    <tr>\n",
       "      <th>2</th>\n",
       "      <td>2.0</td>\n",
       "      <td>2017-01-02 06:55:47.000</td>\n",
       "      <td>2017-01-02 06:58:54.000</td>\n",
       "      <td>N</td>\n",
       "      <td>1.0</td>\n",
       "      <td>42</td>\n",
       "      <td>41</td>\n",
       "      <td>1.0</td>\n",
       "      <td>0.7</td>\n",
       "      <td>5.0</td>\n",
       "      <td>0.0</td>\n",
       "      <td>0.5</td>\n",
       "      <td>0.0</td>\n",
       "      <td>0.0</td>\n",
       "      <td>0.3</td>\n",
       "      <td>5.8</td>\n",
       "      <td>2.0</td>\n",
       "      <td>1.0</td>\n",
       "      <td>NaN</td>\n",
       "    </tr>\n",
       "    <tr>\n",
       "      <th>3</th>\n",
       "      <td>2.0</td>\n",
       "      <td>2017-01-02 14:34:17.000</td>\n",
       "      <td>2017-01-02 14:39:29.000</td>\n",
       "      <td>N</td>\n",
       "      <td>1.0</td>\n",
       "      <td>74</td>\n",
       "      <td>41</td>\n",
       "      <td>1.0</td>\n",
       "      <td>0.7</td>\n",
       "      <td>5.0</td>\n",
       "      <td>0.0</td>\n",
       "      <td>0.5</td>\n",
       "      <td>0.0</td>\n",
       "      <td>0.0</td>\n",
       "      <td>0.3</td>\n",
       "      <td>5.8</td>\n",
       "      <td>2.0</td>\n",
       "      <td>1.0</td>\n",
       "      <td>NaN</td>\n",
       "    </tr>\n",
       "    <tr>\n",
       "      <th>4</th>\n",
       "      <td>1.0</td>\n",
       "      <td>2017-01-03 06:12:30.000</td>\n",
       "      <td>2017-01-03 06:15:56.000</td>\n",
       "      <td>N</td>\n",
       "      <td>1.0</td>\n",
       "      <td>42</td>\n",
       "      <td>41</td>\n",
       "      <td>1.0</td>\n",
       "      <td>0.7</td>\n",
       "      <td>5.0</td>\n",
       "      <td>0.0</td>\n",
       "      <td>0.5</td>\n",
       "      <td>0.0</td>\n",
       "      <td>0.0</td>\n",
       "      <td>0.3</td>\n",
       "      <td>5.8</td>\n",
       "      <td>2.0</td>\n",
       "      <td>1.0</td>\n",
       "      <td>NaN</td>\n",
       "    </tr>\n",
       "  </tbody>\n",
       "</table>\n",
       "</div>"
      ],
      "text/plain": [
       "   VendorID     lpep_pickup_datetime    lpep_dropoff_datetime  \\\n",
       "0       1.0  2017-01-01 09:00:01.000  2017-01-01 09:03:56.000   \n",
       "1       1.0  2017-01-01 18:57:55.000  2017-01-01 19:01:16.000   \n",
       "2       2.0  2017-01-02 06:55:47.000  2017-01-02 06:58:54.000   \n",
       "3       2.0  2017-01-02 14:34:17.000  2017-01-02 14:39:29.000   \n",
       "4       1.0  2017-01-03 06:12:30.000  2017-01-03 06:15:56.000   \n",
       "\n",
       "  store_and_fwd_flag  RatecodeID  PULocationID  DOLocationID  passenger_count  \\\n",
       "0                  N         1.0            74            41              1.0   \n",
       "1                  N         1.0            42            41              1.0   \n",
       "2                  N         1.0            42            41              1.0   \n",
       "3                  N         1.0            74            41              1.0   \n",
       "4                  N         1.0            42            41              1.0   \n",
       "\n",
       "   trip_distance  fare_amount  extra  mta_tax  tip_amount  tolls_amount  \\\n",
       "0            0.7          5.0    0.0      0.5         0.0           0.0   \n",
       "1            0.7          5.0    0.0      0.5         0.0           0.0   \n",
       "2            0.7          5.0    0.0      0.5         0.0           0.0   \n",
       "3            0.7          5.0    0.0      0.5         0.0           0.0   \n",
       "4            0.7          5.0    0.0      0.5         0.0           0.0   \n",
       "\n",
       "   improvement_surcharge  total_amount  payment_type  trip_type  \\\n",
       "0                    0.3           5.8           2.0        1.0   \n",
       "1                    0.3           5.8           2.0        1.0   \n",
       "2                    0.3           5.8           2.0        1.0   \n",
       "3                    0.3           5.8           2.0        1.0   \n",
       "4                    0.3           5.8           2.0        1.0   \n",
       "\n",
       "   congestion_surcharge  \n",
       "0                   NaN  \n",
       "1                   NaN  \n",
       "2                   NaN  \n",
       "3                   NaN  \n",
       "4                   NaN  "
      ]
     },
     "execution_count": 10,
     "metadata": {},
     "output_type": "execute_result"
    }
   ],
   "source": [
    "#Keep trips where trip type is Street Hailed, i.e \"1\"\n",
    "taxi_data = taxi_data[taxi_data[\"trip_type\"]==1.0]\n",
    "taxi_data.head()"
   ]
  },
  {
   "cell_type": "code",
   "execution_count": 12,
   "metadata": {},
   "outputs": [
    {
     "data": {
      "text/plain": [
       "array([2., 1.])"
      ]
     },
     "execution_count": 12,
     "metadata": {},
     "output_type": "execute_result"
    }
   ],
   "source": [
    "#Keeping trips where payment type is equal to Card-1 or Cash-2\n",
    "taxi_data = taxi_data[taxi_data[\"payment_type\"].isin([1.0,2.0])]\n",
    "taxi_data[\"payment_type\"].unique()"
   ]
  },
  {
   "cell_type": "code",
   "execution_count": 13,
   "metadata": {},
   "outputs": [
    {
     "data": {
      "text/plain": [
       "(26291421, 19)"
      ]
     },
     "execution_count": 13,
     "metadata": {},
     "output_type": "execute_result"
    }
   ],
   "source": [
    "#Keeping trips where RatecodeID is equal to Standard Rate-1\n",
    "taxi_data = taxi_data[taxi_data[\"RatecodeID\"]==1.0]\n",
    "taxi_data.shape"
   ]
  },
  {
   "cell_type": "code",
   "execution_count": 15,
   "metadata": {},
   "outputs": [
    {
     "data": {
      "text/plain": [
       "array([ 74,  42,  41,  75, 152, 166,  24,  80,  82,  97,  33, 168, 159,\n",
       "       226, 255,  61,  40,   7,  52, 260, 119, 223, 130, 116,  43,  95,\n",
       "       189, 181, 112, 242,  83,  65, 244, 263, 129,  25, 145, 188,  62,\n",
       "       228,  76, 146, 247, 108, 236,  20, 167, 134, 182, 256, 225,  66,\n",
       "       173, 179,  56,  47, 220, 217,  69,  36,  17,  49,  89, 248, 210,\n",
       "       243, 177, 196, 174,  37, 106, 212,  70,  35, 235,  22, 126,  31,\n",
       "       197,  18, 193,  32,  39,  92,  91,  71,  57, 241,  28, 213, 121,\n",
       "        72, 160, 250, 165, 127, 131, 153,  54, 147, 169,  77,  85, 227,\n",
       "       123,  14, 257,  60, 202,  93, 195, 135,  26, 185,  55,  11, 259,\n",
       "       190, 136,  94, 198,  34,  78, 171,  51,  73, 215,  16, 149, 258,\n",
       "       254,  19, 138,  29, 191, 184, 200, 192, 157, 216, 120, 155,  21,\n",
       "       175, 101, 180, 240, 150,  63, 102,  59, 122, 128, 262,  53,   3,\n",
       "       111, 183, 208, 133,  98, 132, 205, 234,  81, 207,  86,  10, 154,\n",
       "        67, 252,  96,   8, 209, 219, 124, 178, 140, 194,   9, 139, 218,\n",
       "       222, 253, 239,  15, 221, 151,  38, 141, 117, 232, 156,   6, 163,\n",
       "       203,  46,   1,  58, 214, 170,  44, 158, 231, 172, 201, 148, 137,\n",
       "       230,  68, 144,  48, 206, 107, 115, 164, 113, 142, 161,  87, 100,\n",
       "       237,  90,  50, 238,  79, 233, 162, 186, 261, 229, 249, 143, 246,\n",
       "       211,  13,  64, 125, 114, 109,   4, 118, 251,  88,  45, 187,  84,\n",
       "       245,  23,  27,   2, 176, 224,  12,  99, 204,   5,  30, 199, 105],\n",
       "      dtype=int64)"
      ]
     },
     "execution_count": 15,
     "metadata": {},
     "output_type": "execute_result"
    }
   ],
   "source": [
    "#Checking for unknown zones in Pickup(removing 264 and 265)\n",
    "taxi_data = taxi_data[taxi_data[\"PULocationID\"]!=264]\n",
    "taxi_data[\"PULocationID\"].unique()\n"
   ]
  },
  {
   "cell_type": "code",
   "execution_count": 17,
   "metadata": {},
   "outputs": [
    {
     "data": {
      "text/plain": [
       "array([ 74,  42,  41,  75, 152, 166,  24,  80,  82,  97,  33, 168, 159,\n",
       "       226, 255,  61,  40,   7,  52, 260, 119, 223, 130, 116,  43,  95,\n",
       "       189, 181, 112, 242,  83,  65, 244, 263, 129,  25, 145, 188,  62,\n",
       "       228,  76, 146, 247, 108, 236,  20, 167, 134, 182, 256, 225,  66,\n",
       "       173, 179,  56,  47, 220, 217,  69,  36,  17,  49,  89, 248, 210,\n",
       "       243, 177, 196, 174,  37, 106, 212,  70,  35, 235,  22, 126,  31,\n",
       "       197,  18, 193,  32,  39,  92,  91,  71,  57, 241,  28, 213, 121,\n",
       "        72, 160, 250, 165, 127, 131, 153,  54, 147, 169,  77,  85, 227,\n",
       "       123,  14, 257,  60, 202,  93, 195, 135,  26, 185,  55,  11, 259,\n",
       "       190, 136,  94, 198,  34,  78, 171,  51,  73, 215,  16, 149, 258,\n",
       "       254,  19, 138,  29, 191, 184, 200, 192, 157, 216, 120, 155,  21,\n",
       "       175, 101, 180, 240, 150,  63, 102,  59, 122, 128, 262,  53,   3,\n",
       "       111, 183, 208, 133,  98, 132, 205, 234,  81, 207,  86,  10, 154,\n",
       "        67, 252,  96,   8, 209, 219, 124, 178, 140, 194,   9, 139, 218,\n",
       "       222, 253, 239,  15, 221, 151,  38, 141, 117, 232, 156,   6, 163,\n",
       "       203,  46,  58, 214, 170,  44, 158, 231, 172, 201, 148, 137, 230,\n",
       "        68, 144,  48, 206, 107, 115, 164, 113, 142, 161,  87, 100, 237,\n",
       "        90,  50, 238,  79, 233, 162, 186, 261, 229, 249, 143, 246, 211,\n",
       "        13,  64, 125, 114,   1, 109,   4, 118, 251,  88, 187,  84, 245,\n",
       "        23,  27,  45,   2, 176, 224,  12,  99, 204,   5,  30, 199, 105],\n",
       "      dtype=int64)"
      ]
     },
     "execution_count": 17,
     "metadata": {},
     "output_type": "execute_result"
    }
   ],
   "source": [
    "#Checking for unknown zones in Dropoff(removing 264 and 265)\n",
    "taxi_data = taxi_data[taxi_data[\"DOLocationID\"]!= 264]\n",
    "taxi_data[\"PULocationID\"].unique()"
   ]
  },
  {
   "cell_type": "code",
   "execution_count": 19,
   "metadata": {},
   "outputs": [
    {
     "data": {
      "text/plain": [
       "array([1., 2., 5., 6., 3., 4., 0., 9., 7.])"
      ]
     },
     "execution_count": 19,
     "metadata": {},
     "output_type": "execute_result"
    }
   ],
   "source": [
    "taxi_data[\"passenger_count\"].unique()"
   ]
  },
  {
   "cell_type": "code",
   "execution_count": 24,
   "metadata": {},
   "outputs": [
    {
     "data": {
      "text/plain": [
       "(26215073, 19)"
      ]
     },
     "execution_count": 24,
     "metadata": {},
     "output_type": "execute_result"
    }
   ],
   "source": [
    "taxi_data.shape"
   ]
  },
  {
   "cell_type": "code",
   "execution_count": 25,
   "metadata": {},
   "outputs": [],
   "source": [
    "taxi_data.to_csv(\"all_trips.csv\")"
   ]
  }
 ],
 "metadata": {
  "interpreter": {
   "hash": "ec8deda72b4511f1c1d6e8fe7b5b0e683567493d92c77d6b2851238236c0fd3f"
  },
  "kernelspec": {
   "display_name": "Python 3.9.7 64-bit",
   "language": "python",
   "name": "python3"
  },
  "language_info": {
   "codemirror_mode": {
    "name": "ipython",
    "version": 3
   },
   "file_extension": ".py",
   "mimetype": "text/x-python",
   "name": "python",
   "nbconvert_exporter": "python",
   "pygments_lexer": "ipython3",
   "version": "3.9.7"
  },
  "orig_nbformat": 4
 },
 "nbformat": 4,
 "nbformat_minor": 2
}
